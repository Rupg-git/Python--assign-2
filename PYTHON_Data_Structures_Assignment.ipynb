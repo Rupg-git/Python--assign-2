{
  "cells": [
    {
      "cell_type": "markdown",
      "source": [
        "Q1-How do you comment code in Python? What are the different types of comments?"
      ],
      "metadata": {
        "id": "hlvWhtmFKkE4"
      },
      "id": "hlvWhtmFKkE4"
    },
    {
      "cell_type": "markdown",
      "source": [
        "Ans-In Python, you can comment your code using the '#' symbol. Everything after the '#' symbol on a line is considered a comment and is ignored by the Python interpreter. Comments are used to explain the purpose of the code, make notes, or temporarily disable code.\n"
      ],
      "metadata": {
        "id": "99PMyYatLPAr"
      },
      "id": "99PMyYatLPAr"
    },
    {
      "cell_type": "code",
      "execution_count": null,
      "id": "12eacc94-82bc-4e10-98b1-dd2c58180248",
      "metadata": {
        "id": "12eacc94-82bc-4e10-98b1-dd2c58180248"
      },
      "outputs": [],
      "source": [
        "# This is a single-line comment\n"
      ]
    },
    {
      "cell_type": "code",
      "execution_count": null,
      "id": "2623f634-6fe5-4364-8ef1-976cbaa8fde0",
      "metadata": {
        "id": "2623f634-6fe5-4364-8ef1-976cbaa8fde0"
      },
      "outputs": [],
      "source": [
        "\"\"\"\n",
        "This is a multi-line comment.\n",
        "It can span across multiple lines.\n",
        "\"\"\""
      ]
    },
    {
      "cell_type": "markdown",
      "source": [
        "Q2. What are variables in Python? How do you declare and assign values to variables?"
      ],
      "metadata": {
        "id": "tOGXzdxwKvEX"
      },
      "id": "tOGXzdxwKvEX"
    },
    {
      "cell_type": "markdown",
      "source": [
        "Ans-In Python, variables are used to store data values. They act as containers for storing values which can be referenced and manipulated in a program."
      ],
      "metadata": {
        "id": "zOd3x_a-K9Ah"
      },
      "id": "zOd3x_a-K9Ah"
    },
    {
      "cell_type": "code",
      "execution_count": null,
      "id": "740c12e0-f205-4cdc-bcd1-1dbc71242b3e",
      "metadata": {
        "id": "740c12e0-f205-4cdc-bcd1-1dbc71242b3e"
      },
      "outputs": [],
      "source": [
        "# Variable declaration and assignment\n",
        "name = \"John\"\n",
        "age = 25\n",
        "salary = 5000.00\n",
        "is_student = False"
      ]
    },
    {
      "cell_type": "markdown",
      "source": [
        "Q3. How do you convert one data type to another in Python?"
      ],
      "metadata": {
        "id": "W4pvPDCVLhrE"
      },
      "id": "W4pvPDCVLhrE"
    },
    {
      "cell_type": "code",
      "execution_count": null,
      "id": "5d5eff68-ba60-4180-8ab3-b2699022b2d4",
      "metadata": {
        "id": "5d5eff68-ba60-4180-8ab3-b2699022b2d4"
      },
      "outputs": [],
      "source": [
        "#int(): Converts a value to an integer data type. It can handle floating-point numbers, strings containing numeric characters, or even other numeric types like float or bool."
      ]
    },
    {
      "cell_type": "code",
      "execution_count": null,
      "id": "faf50581-e50d-4f46-9d14-5df422edd95b",
      "metadata": {
        "id": "faf50581-e50d-4f46-9d14-5df422edd95b"
      },
      "outputs": [],
      "source": [
        "num_float = 3.14"
      ]
    },
    {
      "cell_type": "code",
      "execution_count": null,
      "id": "8540a76b-848e-47ae-846b-75cd9a8a0df5",
      "metadata": {
        "id": "8540a76b-848e-47ae-846b-75cd9a8a0df5"
      },
      "outputs": [],
      "source": [
        "num_int = int(num_float)"
      ]
    },
    {
      "cell_type": "code",
      "execution_count": null,
      "id": "5883b1db-7d97-407c-a458-9b547431c363",
      "metadata": {
        "id": "5883b1db-7d97-407c-a458-9b547431c363",
        "outputId": "628ee58c-e0fc-49ec-c94b-4bada40c0a73"
      },
      "outputs": [
        {
          "name": "stdout",
          "output_type": "stream",
          "text": [
            "3\n"
          ]
        }
      ],
      "source": [
        "print(num_int)"
      ]
    },
    {
      "cell_type": "code",
      "execution_count": null,
      "id": "e1265da5-1d2a-4c98-9c13-9db285092762",
      "metadata": {
        "id": "e1265da5-1d2a-4c98-9c13-9db285092762"
      },
      "outputs": [],
      "source": [
        "#float(): Converts a value to a floating-point data type. It can convert integers, strings with numeric characters, or other numeric types."
      ]
    },
    {
      "cell_type": "code",
      "execution_count": null,
      "id": "5364b3d0-c67a-4fb5-9bef-6f556b213f21",
      "metadata": {
        "id": "5364b3d0-c67a-4fb5-9bef-6f556b213f21"
      },
      "outputs": [],
      "source": [
        "num_int = 5\n",
        "num_float = float(num_int)\n"
      ]
    },
    {
      "cell_type": "code",
      "execution_count": null,
      "id": "aafe49d6-5d92-4e7b-aa66-8d97dc7b63eb",
      "metadata": {
        "id": "aafe49d6-5d92-4e7b-aa66-8d97dc7b63eb",
        "outputId": "660e8eab-dfe3-4b88-9f50-931eb37e5610"
      },
      "outputs": [
        {
          "name": "stdout",
          "output_type": "stream",
          "text": [
            "5.0\n"
          ]
        }
      ],
      "source": [
        "print(num_float)"
      ]
    },
    {
      "cell_type": "code",
      "execution_count": null,
      "id": "2da6b51b-9231-43cc-95c8-432ea0c16c56",
      "metadata": {
        "id": "2da6b51b-9231-43cc-95c8-432ea0c16c56"
      },
      "outputs": [],
      "source": [
        "#str(): Converts a value to a string data type. It can convert integers, floating-point numbers, Booleans, or any other data type."
      ]
    },
    {
      "cell_type": "code",
      "execution_count": null,
      "id": "015914f0-9931-4904-8462-a3575345aa89",
      "metadata": {
        "id": "015914f0-9931-4904-8462-a3575345aa89"
      },
      "outputs": [],
      "source": [
        "num_int = 10\n",
        "num_str = str(num_int)\n"
      ]
    },
    {
      "cell_type": "code",
      "execution_count": null,
      "id": "488c2e3b-7606-4f0d-9bb6-140ca4e4b5ab",
      "metadata": {
        "id": "488c2e3b-7606-4f0d-9bb6-140ca4e4b5ab",
        "outputId": "aab2b214-1507-413a-b013-16eb71424bf5"
      },
      "outputs": [
        {
          "name": "stdout",
          "output_type": "stream",
          "text": [
            "10\n"
          ]
        }
      ],
      "source": [
        "print(num_str)"
      ]
    },
    {
      "cell_type": "code",
      "execution_count": null,
      "id": "b5e1aa5a-c68a-499d-8b78-e497cbe1be4d",
      "metadata": {
        "id": "b5e1aa5a-c68a-499d-8b78-e497cbe1be4d"
      },
      "outputs": [],
      "source": [
        "#bool(): Converts a value to a Boolean data type. It can convert integers, floating-point numbers, strings, or other data types. Any value that is considered \"truthy\" (non-zero, non-empty, or True) will be converted to True, and \"falsy\" values (zero, empty, or False) will be converted to False.\n"
      ]
    },
    {
      "cell_type": "code",
      "execution_count": null,
      "id": "a9ab52c5-0de8-4298-ac91-43c3f51d8c8b",
      "metadata": {
        "id": "a9ab52c5-0de8-4298-ac91-43c3f51d8c8b"
      },
      "outputs": [],
      "source": [
        "num_int = 0\n",
        "is_true = bool(num_int)"
      ]
    },
    {
      "cell_type": "code",
      "execution_count": null,
      "id": "731cbb09-d1c0-46c3-99c1-96286f0e5092",
      "metadata": {
        "id": "731cbb09-d1c0-46c3-99c1-96286f0e5092",
        "outputId": "1e8713a7-c0e4-4f08-8972-fc3af9fcdc7c"
      },
      "outputs": [
        {
          "name": "stdout",
          "output_type": "stream",
          "text": [
            "False\n"
          ]
        }
      ],
      "source": [
        "print(is_true)"
      ]
    },
    {
      "cell_type": "code",
      "execution_count": null,
      "id": "11cd0f10-fcb4-4918-a7c5-bc07383c7bda",
      "metadata": {
        "id": "11cd0f10-fcb4-4918-a7c5-bc07383c7bda"
      },
      "outputs": [],
      "source": [
        "#list(), tuple(), and set(): These functions convert iterable objects like lists, tuples, or strings to their respective data types. They can also be used to create new instances of those data types."
      ]
    },
    {
      "cell_type": "code",
      "execution_count": null,
      "id": "3df4dc0a-1fd3-4642-b425-865901029d0b",
      "metadata": {
        "id": "3df4dc0a-1fd3-4642-b425-865901029d0b"
      },
      "outputs": [],
      "source": [
        "str_value = \"Hello\""
      ]
    },
    {
      "cell_type": "code",
      "execution_count": null,
      "id": "d79c1d93-56d8-416b-96e7-a6efb5bdecae",
      "metadata": {
        "id": "d79c1d93-56d8-416b-96e7-a6efb5bdecae"
      },
      "outputs": [],
      "source": [
        "list_value = list(str_value)"
      ]
    },
    {
      "cell_type": "code",
      "execution_count": null,
      "id": "ea49acd9-c40e-4225-aced-c54f82c22952",
      "metadata": {
        "id": "ea49acd9-c40e-4225-aced-c54f82c22952",
        "outputId": "7a1fad50-8d3e-4b5b-b1fc-f76c8076f3f0"
      },
      "outputs": [
        {
          "name": "stdout",
          "output_type": "stream",
          "text": [
            "['H', 'e', 'l', 'l', 'o']\n"
          ]
        }
      ],
      "source": [
        "print(list_value)"
      ]
    },
    {
      "cell_type": "code",
      "execution_count": null,
      "id": "dd26fdc0-9647-457c-a168-bca45c328d6c",
      "metadata": {
        "id": "dd26fdc0-9647-457c-a168-bca45c328d6c"
      },
      "outputs": [],
      "source": [
        "tuple_value = tuple(str_value)"
      ]
    },
    {
      "cell_type": "code",
      "execution_count": null,
      "id": "b9b27690-185f-47c0-88b2-e9238cc86476",
      "metadata": {
        "id": "b9b27690-185f-47c0-88b2-e9238cc86476",
        "outputId": "f9f2cd75-f390-4348-aa3f-9612d7933735"
      },
      "outputs": [
        {
          "name": "stdout",
          "output_type": "stream",
          "text": [
            "('H', 'e', 'l', 'l', 'o')\n"
          ]
        }
      ],
      "source": [
        "print(tuple_value)"
      ]
    },
    {
      "cell_type": "code",
      "execution_count": null,
      "id": "1382038b-2ef5-43ed-b4a1-3e7aef5f61f4",
      "metadata": {
        "id": "1382038b-2ef5-43ed-b4a1-3e7aef5f61f4"
      },
      "outputs": [],
      "source": [
        "set_value = set(str_value)"
      ]
    },
    {
      "cell_type": "code",
      "execution_count": null,
      "id": "da002585-7acc-4d75-b4c4-87be4508fe08",
      "metadata": {
        "id": "da002585-7acc-4d75-b4c4-87be4508fe08",
        "outputId": "6fe3a8c5-d456-454f-98b4-0c594b9fb9d3"
      },
      "outputs": [
        {
          "name": "stdout",
          "output_type": "stream",
          "text": [
            "{'e', 'o', 'H', 'l'}\n"
          ]
        }
      ],
      "source": [
        "print(set_value)"
      ]
    },
    {
      "cell_type": "markdown",
      "source": [
        "Q4. How do you write and execute a Python script from the command line?"
      ],
      "metadata": {
        "id": "0pXQW_NfL9wg"
      },
      "id": "0pXQW_NfL9wg"
    },
    {
      "cell_type": "code",
      "source": [
        "#1.Create Your Python Script: First, you need a Python script to run.\n",
        "#2.Save Your Script: Save your Python script with a .py extension, which signifies that it's a Python source code file.\n",
        "#3.Open a Terminal or Command Prompt: To execute your script, you'll need to open a terminal\n",
        "#4.Navigate to the Script's Directory: Use the cd command to navigate to the directory where your Python script is located.\n",
        "#5.Run the Script: Enter python filename.py"
      ],
      "metadata": {
        "id": "BWpaWnqKNcdi"
      },
      "id": "BWpaWnqKNcdi",
      "execution_count": null,
      "outputs": []
    },
    {
      "cell_type": "markdown",
      "source": [
        "Q5. Given a list my_list = [1, 2, 3, 4, 5], write the code to slice the list and obtain the sub-list [2, 3]."
      ],
      "metadata": {
        "id": "2vSg8aWCN0zg"
      },
      "id": "2vSg8aWCN0zg"
    },
    {
      "cell_type": "code",
      "execution_count": null,
      "id": "760c1789-4ad6-4046-a50d-36f93755629f",
      "metadata": {
        "id": "760c1789-4ad6-4046-a50d-36f93755629f"
      },
      "outputs": [],
      "source": [
        "#To slice a list and obtain a sub-list [2, 3] from the given list my_list = [1, 2, 3, 4, 5], you can use the indexing feature in Python. Here's the code to achieve that:\n"
      ]
    },
    {
      "cell_type": "code",
      "execution_count": null,
      "id": "014468f9-d23d-47b1-9325-afda70c993bd",
      "metadata": {
        "id": "014468f9-d23d-47b1-9325-afda70c993bd"
      },
      "outputs": [],
      "source": [
        "my_list = [1, 2, 3, 4, 5]\n",
        "sub_list = my_list[1:3]"
      ]
    },
    {
      "cell_type": "code",
      "execution_count": null,
      "id": "4895d9cc-0214-4144-9e19-ad1f7137b896",
      "metadata": {
        "id": "4895d9cc-0214-4144-9e19-ad1f7137b896",
        "outputId": "e576f2c6-fab5-4fc2-f0fa-2b4fc137e1cd"
      },
      "outputs": [
        {
          "name": "stdout",
          "output_type": "stream",
          "text": [
            "[2, 3]\n"
          ]
        }
      ],
      "source": [
        "print(sub_list)"
      ]
    },
    {
      "cell_type": "markdown",
      "source": [
        "Q6. What is a complex number in mathematics, and how is it represented in Python?"
      ],
      "metadata": {
        "id": "CPEOEuilOBlF"
      },
      "id": "CPEOEuilOBlF"
    },
    {
      "cell_type": "code",
      "execution_count": null,
      "id": "1be93988-06d2-45f7-92c4-08d3482673be",
      "metadata": {
        "id": "1be93988-06d2-45f7-92c4-08d3482673be"
      },
      "outputs": [],
      "source": [
        "#In Python, complex numbers are represented using the complex data type. The imaginary unit is represented by j instead of i in Python. The syntax to define a complex number in Python is as follows:"
      ]
    },
    {
      "cell_type": "code",
      "execution_count": null,
      "id": "c53ef28e-c799-4465-b1f8-47acdbdf4dd1",
      "metadata": {
        "id": "c53ef28e-c799-4465-b1f8-47acdbdf4dd1"
      },
      "outputs": [],
      "source": [
        "z = a + bj"
      ]
    },
    {
      "cell_type": "code",
      "execution_count": null,
      "id": "fad7558a-f60b-48b5-8f4f-1caee18dd7a7",
      "metadata": {
        "id": "fad7558a-f60b-48b5-8f4f-1caee18dd7a7"
      },
      "outputs": [],
      "source": [
        "z1 = 3 + 2j\n",
        "z2 = -1.5 + 0.5j"
      ]
    },
    {
      "cell_type": "code",
      "execution_count": null,
      "id": "dbef3096-17fb-4a1c-a86b-a7d4eac9d69f",
      "metadata": {
        "id": "dbef3096-17fb-4a1c-a86b-a7d4eac9d69f"
      },
      "outputs": [],
      "source": [
        "z1 = 3 + 2j\n",
        "z2 = -1.5 + 0.5j\n",
        "\n",
        "sum = z1 + z2\n",
        "product = z1 * z2\n",
        "absolute_value = abs(z1)"
      ]
    },
    {
      "cell_type": "code",
      "execution_count": null,
      "id": "d000b491-dc63-4cb7-96c1-71c54b42e7c8",
      "metadata": {
        "id": "d000b491-dc63-4cb7-96c1-71c54b42e7c8",
        "outputId": "c0430345-5f34-4e68-9adc-3edd7386a668"
      },
      "outputs": [
        {
          "name": "stdout",
          "output_type": "stream",
          "text": [
            "Sum: (1.5+2.5j)\n"
          ]
        }
      ],
      "source": [
        "print(\"Sum:\", sum)"
      ]
    },
    {
      "cell_type": "code",
      "execution_count": null,
      "id": "84c62d78-1634-4928-961f-f8f74e9f964a",
      "metadata": {
        "id": "84c62d78-1634-4928-961f-f8f74e9f964a",
        "outputId": "7627dcbe-45f2-40eb-c962-a5d301562088"
      },
      "outputs": [
        {
          "name": "stdout",
          "output_type": "stream",
          "text": [
            "Product: (-5.5-1.5j)\n"
          ]
        }
      ],
      "source": [
        "print(\"Product:\", product)"
      ]
    },
    {
      "cell_type": "code",
      "execution_count": null,
      "id": "c6b24db2-9378-4901-a8a7-a51994ae1ba5",
      "metadata": {
        "id": "c6b24db2-9378-4901-a8a7-a51994ae1ba5",
        "outputId": "d67cee84-f0f0-4c8c-ab4b-85aff84a49c1"
      },
      "outputs": [
        {
          "name": "stdout",
          "output_type": "stream",
          "text": [
            "Absolute Value: 3.605551275463989\n"
          ]
        }
      ],
      "source": [
        "print(\"Absolute Value:\", absolute_value)"
      ]
    },
    {
      "cell_type": "markdown",
      "source": [
        "Q7. What is the correct way to declare a variable named age and assign the value 25 to it?"
      ],
      "metadata": {
        "id": "8LAd0vsyOG6S"
      },
      "id": "8LAd0vsyOG6S"
    },
    {
      "cell_type": "code",
      "execution_count": null,
      "id": "66bb11c5-37d5-436e-bf0f-b11ed330f194",
      "metadata": {
        "id": "66bb11c5-37d5-436e-bf0f-b11ed330f194"
      },
      "outputs": [],
      "source": [
        "age = 25"
      ]
    },
    {
      "cell_type": "code",
      "execution_count": null,
      "id": "eb382c07-948a-4ba1-813d-ceceeea2d8d6",
      "metadata": {
        "id": "eb382c07-948a-4ba1-813d-ceceeea2d8d6",
        "outputId": "200ad1fc-34bf-422d-cca3-9869bded2210"
      },
      "outputs": [
        {
          "name": "stdout",
          "output_type": "stream",
          "text": [
            "Age: 25\n"
          ]
        }
      ],
      "source": [
        "print(\"Age:\", age)"
      ]
    },
    {
      "cell_type": "markdown",
      "source": [
        "Q8. Declare a variable named price and assign the value 9.99 to it. What data type does this variable\n",
        "belong to?"
      ],
      "metadata": {
        "id": "3q4fOOPkOLby"
      },
      "id": "3q4fOOPkOLby"
    },
    {
      "cell_type": "code",
      "execution_count": null,
      "id": "e163c539-bf0a-4201-8965-bf78877099d8",
      "metadata": {
        "id": "e163c539-bf0a-4201-8965-bf78877099d8"
      },
      "outputs": [],
      "source": [
        "price = 9.99"
      ]
    },
    {
      "cell_type": "code",
      "execution_count": null,
      "id": "bcd18651-5e52-4d89-8e7d-1114932de1b6",
      "metadata": {
        "id": "bcd18651-5e52-4d89-8e7d-1114932de1b6",
        "outputId": "fa7155e6-b6a4-41b9-fab0-ecc6121c5511"
      },
      "outputs": [
        {
          "name": "stdout",
          "output_type": "stream",
          "text": [
            "<class 'float'>\n"
          ]
        }
      ],
      "source": [
        "print(type(price))"
      ]
    },
    {
      "cell_type": "markdown",
      "source": [
        "Q9. Create a variable named name and assign your full name to it as a string. How would you print the\n",
        "value of this variable?"
      ],
      "metadata": {
        "id": "KDbG0pgWOTib"
      },
      "id": "KDbG0pgWOTib"
    },
    {
      "cell_type": "code",
      "execution_count": 1,
      "id": "37326e40-884f-46a0-9634-e39efa04cf16",
      "metadata": {
        "id": "37326e40-884f-46a0-9634-e39efa04cf16"
      },
      "outputs": [],
      "source": [
        "name = \"Rupal Gupta\""
      ]
    },
    {
      "cell_type": "code",
      "execution_count": 2,
      "id": "f42e0d13-a43c-4a00-b463-e9296e1eb928",
      "metadata": {
        "colab": {
          "base_uri": "https://localhost:8080/"
        },
        "id": "f42e0d13-a43c-4a00-b463-e9296e1eb928",
        "outputId": "ca63fc3b-8ab0-488d-b0ba-d189fc895dae"
      },
      "outputs": [
        {
          "output_type": "stream",
          "name": "stdout",
          "text": [
            "Rupal Gupta\n"
          ]
        }
      ],
      "source": [
        "print(name)"
      ]
    },
    {
      "cell_type": "markdown",
      "source": [
        "Q10. Given the string \"Hello, World!\", extract the substring \"World\"."
      ],
      "metadata": {
        "id": "sS3hwBe4OYPn"
      },
      "id": "sS3hwBe4OYPn"
    },
    {
      "cell_type": "code",
      "execution_count": null,
      "id": "4c584c18-1733-4568-9c03-0be2f7a0c247",
      "metadata": {
        "id": "4c584c18-1733-4568-9c03-0be2f7a0c247"
      },
      "outputs": [],
      "source": [
        "string = \"Hello, World!\"\n",
        "substring = string[7:12]"
      ]
    },
    {
      "cell_type": "code",
      "execution_count": null,
      "id": "26d8a0df-905e-4daa-9b1d-621ab45a2bff",
      "metadata": {
        "id": "26d8a0df-905e-4daa-9b1d-621ab45a2bff",
        "outputId": "628a1252-25ce-4957-d266-d361300652cd"
      },
      "outputs": [
        {
          "name": "stdout",
          "output_type": "stream",
          "text": [
            "World\n"
          ]
        }
      ],
      "source": [
        "print(substring)"
      ]
    },
    {
      "cell_type": "markdown",
      "source": [
        "Q11. Create a variable named \"is_student\" and assign it a boolean value indicating whether you are\n",
        "currently a student or not."
      ],
      "metadata": {
        "id": "lO_wvGdiOeot"
      },
      "id": "lO_wvGdiOeot"
    },
    {
      "cell_type": "code",
      "execution_count": null,
      "id": "88b6983f-06f5-4e56-8364-b684aa4e4bda",
      "metadata": {
        "id": "88b6983f-06f5-4e56-8364-b684aa4e4bda"
      },
      "outputs": [],
      "source": [
        "is_student = True"
      ]
    },
    {
      "cell_type": "code",
      "execution_count": null,
      "id": "9b102840-d534-4b3a-9767-3698875829c4",
      "metadata": {
        "id": "9b102840-d534-4b3a-9767-3698875829c4",
        "outputId": "f3235e15-94a0-4870-87c0-8762f830c70d"
      },
      "outputs": [
        {
          "name": "stdout",
          "output_type": "stream",
          "text": [
            "True\n"
          ]
        }
      ],
      "source": [
        "print(is_student)"
      ]
    },
    {
      "cell_type": "code",
      "execution_count": null,
      "id": "1abf8bcf-22f5-4c57-99f7-573e2caaeb00",
      "metadata": {
        "id": "1abf8bcf-22f5-4c57-99f7-573e2caaeb00"
      },
      "outputs": [],
      "source": []
    },
    {
      "cell_type": "code",
      "execution_count": null,
      "id": "34d20a6c-d577-4353-b85e-47b3c8acdc5f",
      "metadata": {
        "id": "34d20a6c-d577-4353-b85e-47b3c8acdc5f"
      },
      "outputs": [],
      "source": []
    }
  ],
  "metadata": {
    "kernelspec": {
      "display_name": "Python 3 (ipykernel)",
      "language": "python",
      "name": "python3"
    },
    "language_info": {
      "codemirror_mode": {
        "name": "ipython",
        "version": 3
      },
      "file_extension": ".py",
      "mimetype": "text/x-python",
      "name": "python",
      "nbconvert_exporter": "python",
      "pygments_lexer": "ipython3",
      "version": "3.10.8"
    },
    "colab": {
      "provenance": []
    }
  },
  "nbformat": 4,
  "nbformat_minor": 5
}